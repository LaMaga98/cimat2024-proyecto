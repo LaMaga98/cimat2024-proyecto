{
 "cells": [
  {
   "cell_type": "code",
   "execution_count": 23,
   "metadata": {},
   "outputs": [],
   "source": [
    "import torch\n",
    "from __future__ import annotations\n",
    "from torchdrug import core, tasks, datasets\n",
    "import yaml\n",
    "import protbert as pb\n",
    "import lmdb\n",
    "import torch.optim as optim\n",
    "from torch.utils import data as torch_data\n",
    "import os\n",
    "from torchdrug.datasets import Solubility\n",
    "from torchdrug import data, utils\n"
   ]
  },
  {
   "cell_type": "markdown",
   "metadata": {},
   "source": [
    "Datos"
   ]
  },
  {
   "cell_type": "code",
   "execution_count": 24,
   "metadata": {},
   "outputs": [],
   "source": [
    "#archivo de configuración\n",
    "def load_config(cfg_file):\n",
    "    with open(cfg_file, \"r\") as file:\n",
    "        config = yaml.load(file, Loader=yaml.FullLoader)\n",
    "    return config\n",
    "\n",
    "config_path = \"/Users/ely/Documents/Maestria/proyecto_tecnologico/cimat2024-proyecto/Tareas/2024_07_11/solubility_ProtBert.yaml\"\n",
    "config = load_config(config_path)"
   ]
  },
  {
   "cell_type": "code",
   "execution_count": null,
   "metadata": {},
   "outputs": [],
   "source": [
    "ds.data[0].residue_type"
   ]
  },
  {
   "cell_type": "code",
   "execution_count": 25,
   "metadata": {},
   "outputs": [
    {
     "name": "stdout",
     "output_type": "stream",
     "text": [
      "11:19:31   Extracting /Users/ely/Documents/Maestria/proyecto_tecnologico/cimat2024-proyecto/Tareas/2024_07_11/solubility.tar.gz to /Users/ely/Documents/Maestria/proyecto_tecnologico/cimat2024-proyecto/Tareas/2024_07_11\n"
     ]
    },
    {
     "name": "stderr",
     "output_type": "stream",
     "text": [
      "Constructing proteins from sequences: 100%|██████████| 71419/71419 [00:00<00:00, 286039.90it/s]\n"
     ]
    }
   ],
   "source": [
    "ds=Solubility(\"/Users/ely/Documents/Maestria/proyecto_tecnologico/cimat2024-proyecto/Tareas/2024_07_11\",lazy=True)"
   ]
  },
  {
   "cell_type": "code",
   "execution_count": 153,
   "metadata": {},
   "outputs": [
    {
     "data": {
      "text/plain": [
       "20"
      ]
     },
     "execution_count": 153,
     "metadata": {},
     "output_type": "execute_result"
    }
   ],
   "source": [
    "len(ds.data[0].id2residue_symbol)"
   ]
  },
  {
   "cell_type": "code",
   "execution_count": 149,
   "metadata": {},
   "outputs": [
    {
     "data": {
      "text/plain": [
       "tensor([ 0, 14,  7,  8, 12,  5,  9,  8, 16,  0, 15,  5, 18, 11, 16, 12,  2,  7,\n",
       "         5, 10,  4,  8,  1, 12,  1,  9, 13, 13, 12,  2,  0, 10, 17,  8,  1,  0,\n",
       "         4,  1,  1, 13,  2,  1, 13, 13, 17,  4,  1,  1, 12,  4,  4,  8,  2, 12,\n",
       "        14,  5,  8,  0, 10,  8, 17,  9,  9,  3,  4,  4,  3, 18, 13,  5, 10, 13,\n",
       "         4,  5, 17,  7,  7, 11, 10, 11,  4,  9, 10, 17,  7, 15, 10,  2,  7, 12,\n",
       "         9, 19,  5,  4, 13, 13,  8, 17, 13, 19,  7,  8, 10, 15, 12,  5,  5, 10,\n",
       "         1, 10,  7, 12, 17,  4,  1, 17,  0,  8,  5,  2, 13,  7,  7,  1,  1,  4,\n",
       "         5, 12,  8, 14,  2,  9,  8, 10,  8,  7, 18,  0,  1, 12, 12,  7, 17,  4,\n",
       "         7,  1, 15,  1,  9,  5,  5,  7,  0,  8,  3,  0,  5, 16,  2,  1, 17,  8,\n",
       "        11,  3,  9, 15,  3,  5, 10, 10,  3, 10,  0,  7,  8,  1,  2,  8, 14, 13,\n",
       "         0,  8,  5, 18,  0,  7,  0, 10,  1,  4,  7,  0,  8,  9,  3,  4, 10, 10,\n",
       "         2,  5, 10,  2,  4,  4, 17,  8,  8,  9, 12, 16, 13, 13, 16, 17,  2, 12,\n",
       "        19, 10,  4,  3,  5, 11,  5,  6,  4,  8,  1, 15,  4, 12,  5, 11, 14, 13,\n",
       "         1, 14, 17, 17,  0,  1,  3,  5,  0,  8,  4, 16, 11,  2,  7,  1,  0,  2,\n",
       "        13, 12,  0,  9,  5,  1, 16,  0, 16, 10,  0,  1,  5,  7, 13, 13,  1, 17,\n",
       "        11,  8,  1,  8, 11,  2,  0,  1,  1,  5,  0,  3,  9,  4, 14, 18, 16, 13,\n",
       "         5,  0, 11,  0,  2, 13,  8,  2,  2, 10,  1, 15, 16,  0,  4, 10, 11,  4,\n",
       "         5, 14, 13,  1, 17,  6, 18,  0, 16,  1, 12, 12, 16, 10,  3, 16,  8,  4,\n",
       "         9,  5,  4,  4,  0, 16,  7,  0,  3, 13, 18,  8, 18, 10,  2, 12, 11,  4,\n",
       "         7, 17,  1,  0,  8, 13, 10, 15, 16, 14,  0, 12,  8,  5,  0,  7,  2, 14,\n",
       "         0,  6, 10,  4,  6, 18,  5,  9, 15, 14, 12,  1, 10, 11,  9, 10,  4, 13,\n",
       "         9,  8,  2,  4,  8,  8,  5,  1,  1,  0,  6,  9, 16,  7, 14,  0,  7,  3,\n",
       "        15,  0, 10, 10,  4, 14,  8,  9, 18, 11,  5,  5,  0, 18, 15, 13,  5,  1,\n",
       "         5,  8, 17, 13,  8, 16,  0,  8, 12,  3,  7, 12, 13, 16, 10, 11, 19, 14,\n",
       "        13, 12, 14,  0, 16,  2, 13,  9,  0, 12,  8,  5,  2, 17,  1,  0, 10,  1,\n",
       "         2,  7, 16,  8, 12])"
      ]
     },
     "execution_count": 149,
     "metadata": {},
     "output_type": "execute_result"
    }
   ],
   "source": [
    "ds.data[0].residue_type"
   ]
  },
  {
   "cell_type": "code",
   "execution_count": 150,
   "metadata": {},
   "outputs": [
    {
     "data": {
      "text/plain": [
       "'GMILKTNLFGHTYQFKSITDVLAKANEEKSGDRLAGVAAESAEERVAAKVVLSKMTLGDLRNNPVVPYETDEVTRIIQDQVNDRIHDSIKNWTVEELREWILDHKTTDADIKRVARGLTSEIIAAVTKLMSNLDLIYGAKKIRVIAHANTTIGLPGTFSARLQPNHPTDDPDGILASLMEGLTYGIGDAVIGLNPVDDSTDSVVRLLNKFEEFRSKWDVPTQTCVLAHVKTQMEAMRRGAPTGLVFQSIAGSEKGNTAFGFDGATIEEARQLALQSGAATGPNVMYFETGQGSELSSDAHFGVDQVTMEARCYGFAKKFDPFLVNTVVGFIGPEYLYDSKQVIRAGLEDHFMGKLTGISMGCDVCYTNHMKADQNDVENLSVLLTAAGCNFIMGIPHGDDVMLNYQTTGYHETATLRELFGLKPIKEFDQWMEKMGFSENGKLTSRAGDASIFLK'"
      ]
     },
     "execution_count": 150,
     "metadata": {},
     "output_type": "execute_result"
    }
   ],
   "source": [
    "ds.sequences[0]"
   ]
  },
  {
   "cell_type": "code",
   "execution_count": 156,
   "metadata": {},
   "outputs": [
    {
     "data": {
      "text/plain": [
       "dict_values(['G', 'A', 'S', 'P', 'V', 'T', 'C', 'I', 'L', 'N', 'D', 'Q', 'K', 'E', 'M', 'H', 'F', 'R', 'Y', 'W'])"
      ]
     },
     "execution_count": 156,
     "metadata": {},
     "output_type": "execute_result"
    }
   ],
   "source": [
    "ds.data[0].id2residue_symbol.values()"
   ]
  },
  {
   "cell_type": "code",
   "execution_count": null,
   "metadata": {},
   "outputs": [],
   "source": [
    "'L',\n",
    "    'A','G','V','E','S','I','K','R','D','T','P','N',\n",
    "    'Q','F','Y','M','H','C','W','X','U','B','Z','O'"
   ]
  },
  {
   "cell_type": "code",
   "execution_count": null,
   "metadata": {},
   "outputs": [],
   "source": [
    "i =ds.data[0].residue_type\n",
    "def construct_mapping(tokenizer,):\n",
    "    mapping = [0] * len(data.Protein.id2residue_symbol)\n",
    "    for i, token in data.Protein.id2residue_symbol.items():\n",
    "        mapping[i] = tokenizer._convert_token_to_id(token)\n",
    "    mapping = torch.tensor(mapping)\n",
    "    return mapping\n",
    "\n",
    "i = mapping[i]"
   ]
  },
  {
   "cell_type": "code",
   "execution_count": 84,
   "metadata": {},
   "outputs": [
    {
     "data": {
      "text/plain": [
       "455"
      ]
     },
     "execution_count": 84,
     "metadata": {},
     "output_type": "execute_result"
    }
   ],
   "source": [
    "len(ds.sequences[0])"
   ]
  },
  {
   "cell_type": "code",
   "execution_count": 34,
   "metadata": {},
   "outputs": [
    {
     "data": {
      "text/plain": [
       "torchdrug.datasets.solubility.Solubility"
      ]
     },
     "execution_count": 34,
     "metadata": {},
     "output_type": "execute_result"
    }
   ],
   "source": [
    "type(ds.sequences)"
   ]
  },
  {
   "cell_type": "code",
   "execution_count": 32,
   "metadata": {},
   "outputs": [
    {
     "data": {
      "text/plain": [
       "list"
      ]
     },
     "execution_count": 32,
     "metadata": {},
     "output_type": "execute_result"
    }
   ],
   "source": [
    "type(ds.targets['solubility'])"
   ]
  },
  {
   "cell_type": "code",
   "execution_count": 33,
   "metadata": {},
   "outputs": [],
   "source": [
    "sequences=ds.sequences\n",
    "targets=ds.targets['solubility']"
   ]
  },
  {
   "cell_type": "code",
   "execution_count": 95,
   "metadata": {},
   "outputs": [
    {
     "data": {
      "text/plain": [
       "'MAHHHHHHMSFFRMKRRLNFVVKRGIEELWENSFLDNNVDMKKIEYSKTGDAWPCVLLRKKSFEDLHKLYYICLKEKNKLLGEQYFHLQNSTKMLQHGRLKKVKLTMKRILTVLSRRAIHDQCLRAKDMLKKQEEREFYEIQKFKLNEQLLCLKHKMNILKKYNSFSLEQISLTFSIKKIENKIQQIDIILNPLRKETMYLLIPHFKYQRKYSDLPGFISWKKQNIIALRNNMSKLHRLY'"
      ]
     },
     "execution_count": 95,
     "metadata": {},
     "output_type": "execute_result"
    }
   ],
   "source": [
    "sequences[1]"
   ]
  },
  {
   "cell_type": "code",
   "execution_count": 110,
   "metadata": {},
   "outputs": [],
   "source": [
    "aminoacidos = [\n",
    "    'A','R','N','D','C','Q','E','G','H',\n",
    "    'I','L','K','M','F','P','S','T','W','Y','V'\n",
    "]\n",
    "#diccionario de mapeo\n",
    "letter_to_number = {letter: index + 1 for index, letter in enumerate(aminoacidos)}\n",
    "# Función para convertir secuencias de letras a secuencias de números\n",
    "def convert_sequences_to_numbers(sequences, mapping):\n",
    "    return [[mapping[letter] for letter in seq] for seq in sequences]\n",
    "\n",
    "sequences_number=convert_sequences_to_numbers(sequences, letter_to_number)"
   ]
  },
  {
   "cell_type": "code",
   "execution_count": 116,
   "metadata": {},
   "outputs": [
    {
     "data": {
      "text/plain": [
       "[13,\n",
       " 1,\n",
       " 9,\n",
       " 9,\n",
       " 9,\n",
       " 9,\n",
       " 9,\n",
       " 9,\n",
       " 13,\n",
       " 16,\n",
       " 14,\n",
       " 14,\n",
       " 2,\n",
       " 13,\n",
       " 12,\n",
       " 2,\n",
       " 2,\n",
       " 11,\n",
       " 3,\n",
       " 14,\n",
       " 20,\n",
       " 20,\n",
       " 12,\n",
       " 2,\n",
       " 8,\n",
       " 10,\n",
       " 7,\n",
       " 7,\n",
       " 11,\n",
       " 18,\n",
       " 7,\n",
       " 3,\n",
       " 16,\n",
       " 14,\n",
       " 11,\n",
       " 4,\n",
       " 3,\n",
       " 3,\n",
       " 20,\n",
       " 4,\n",
       " 13,\n",
       " 12,\n",
       " 12,\n",
       " 10,\n",
       " 7,\n",
       " 19,\n",
       " 16,\n",
       " 12,\n",
       " 17,\n",
       " 8,\n",
       " 4,\n",
       " 1,\n",
       " 18,\n",
       " 15,\n",
       " 5,\n",
       " 20,\n",
       " 11,\n",
       " 11,\n",
       " 2,\n",
       " 12,\n",
       " 12,\n",
       " 16,\n",
       " 14,\n",
       " 7,\n",
       " 4,\n",
       " 11,\n",
       " 9,\n",
       " 12,\n",
       " 11,\n",
       " 19,\n",
       " 19,\n",
       " 10,\n",
       " 5,\n",
       " 11,\n",
       " 12,\n",
       " 7,\n",
       " 12,\n",
       " 3,\n",
       " 12,\n",
       " 11,\n",
       " 11,\n",
       " 8,\n",
       " 7,\n",
       " 6,\n",
       " 19,\n",
       " 14,\n",
       " 9,\n",
       " 11,\n",
       " 6,\n",
       " 3,\n",
       " 16,\n",
       " 17,\n",
       " 12,\n",
       " 13,\n",
       " 11,\n",
       " 6,\n",
       " 9,\n",
       " 8,\n",
       " 2,\n",
       " 11,\n",
       " 12,\n",
       " 12,\n",
       " 20,\n",
       " 12,\n",
       " 11,\n",
       " 17,\n",
       " 13,\n",
       " 12,\n",
       " 2,\n",
       " 10,\n",
       " 11,\n",
       " 17,\n",
       " 20,\n",
       " 11,\n",
       " 16,\n",
       " 2,\n",
       " 2,\n",
       " 1,\n",
       " 10,\n",
       " 9,\n",
       " 4,\n",
       " 6,\n",
       " 5,\n",
       " 11,\n",
       " 2,\n",
       " 1,\n",
       " 12,\n",
       " 4,\n",
       " 13,\n",
       " 11,\n",
       " 12,\n",
       " 12,\n",
       " 6,\n",
       " 7,\n",
       " 7,\n",
       " 2,\n",
       " 7,\n",
       " 14,\n",
       " 19,\n",
       " 7,\n",
       " 10,\n",
       " 6,\n",
       " 12,\n",
       " 14,\n",
       " 12,\n",
       " 11,\n",
       " 3,\n",
       " 7,\n",
       " 6,\n",
       " 11,\n",
       " 11,\n",
       " 5,\n",
       " 11,\n",
       " 12,\n",
       " 9,\n",
       " 12,\n",
       " 13,\n",
       " 3,\n",
       " 10,\n",
       " 11,\n",
       " 12,\n",
       " 12,\n",
       " 19,\n",
       " 3,\n",
       " 16,\n",
       " 14,\n",
       " 16,\n",
       " 11,\n",
       " 7,\n",
       " 6,\n",
       " 10,\n",
       " 16,\n",
       " 11,\n",
       " 17,\n",
       " 14,\n",
       " 16,\n",
       " 10,\n",
       " 12,\n",
       " 12,\n",
       " 10,\n",
       " 7,\n",
       " 3,\n",
       " 12,\n",
       " 10,\n",
       " 6,\n",
       " 6,\n",
       " 10,\n",
       " 4,\n",
       " 10,\n",
       " 10,\n",
       " 11,\n",
       " 3,\n",
       " 15,\n",
       " 11,\n",
       " 2,\n",
       " 12,\n",
       " 7,\n",
       " 17,\n",
       " 13,\n",
       " 19,\n",
       " 11,\n",
       " 11,\n",
       " 10,\n",
       " 15,\n",
       " 9,\n",
       " 14,\n",
       " 12,\n",
       " 19,\n",
       " 6,\n",
       " 2,\n",
       " 12,\n",
       " 19,\n",
       " 16,\n",
       " 4,\n",
       " 11,\n",
       " 15,\n",
       " 8,\n",
       " 14,\n",
       " 10,\n",
       " 16,\n",
       " 18,\n",
       " 12,\n",
       " 12,\n",
       " 6,\n",
       " 3,\n",
       " 10,\n",
       " 10,\n",
       " 1,\n",
       " 11,\n",
       " 2,\n",
       " 3,\n",
       " 3,\n",
       " 13,\n",
       " 16,\n",
       " 12,\n",
       " 11,\n",
       " 9,\n",
       " 2,\n",
       " 11,\n",
       " 19]"
      ]
     },
     "execution_count": 116,
     "metadata": {},
     "output_type": "execute_result"
    }
   ],
   "source": [
    "sequences_number[1]"
   ]
  },
  {
   "cell_type": "code",
   "execution_count": 138,
   "metadata": {},
   "outputs": [
    {
     "name": "stdout",
     "output_type": "stream",
     "text": [
      "La longitud del string más largo es: 19\n"
     ]
    }
   ],
   "source": [
    "#longitud del string más larga\n",
    "max_length = min(len(s) for s in sequences)\n",
    "\n",
    "print(\"La longitud del string más largo es:\", max_length)"
   ]
  },
  {
   "cell_type": "code",
   "execution_count": 66,
   "metadata": {},
   "outputs": [
    {
     "data": {
      "text/plain": [
       "1"
      ]
     },
     "execution_count": 66,
     "metadata": {},
     "output_type": "execute_result"
    }
   ],
   "source": [
    "targets[0]"
   ]
  },
  {
   "cell_type": "code",
   "execution_count": 42,
   "metadata": {},
   "outputs": [
    {
     "data": {
      "text/plain": [
       "[62478, 6942, 1999]"
      ]
     },
     "execution_count": 42,
     "metadata": {},
     "output_type": "execute_result"
    }
   ],
   "source": [
    "ds.num_samples #train,valid,test"
   ]
  },
  {
   "cell_type": "markdown",
   "metadata": {},
   "source": [
    "#separamos como la función split (en orden)\n",
    "```python\n",
    "def split(self):\n",
    "    offset = 0\n",
    "    splits = []\n",
    "    for num_sample in self.num_samples:\n",
    "        split = torch_data.Subset(self, range(offset, offset + num_sample))\n",
    "        splits.append(split)\n",
    "        offset += num_sample\n",
    "    return splits\n",
    "```"
   ]
  },
  {
   "cell_type": "code",
   "execution_count": 63,
   "metadata": {},
   "outputs": [],
   "source": [
    "train_sequences=sequences[0:ds.num_samples[0]]\n",
    "valid_sequences=sequences[ds.num_samples[0]:ds.num_samples[0]+ds.num_samples[1]]\n",
    "test_sequences=sequences[ds.num_samples[0]+ds.num_samples[1]:]\n",
    "\n",
    "train_target=targets[0:ds.num_samples[0]]\n",
    "valid_target=targets[ds.num_samples[0]:ds.num_samples[0]+ds.num_samples[1]]\n",
    "test_target=targets[ds.num_samples[0]+ds.num_samples[1]:]\n"
   ]
  },
  {
   "cell_type": "code",
   "execution_count": 64,
   "metadata": {},
   "outputs": [
    {
     "name": "stdout",
     "output_type": "stream",
     "text": [
      "numero de secuencias por set:\n",
      "\n",
      "train:  62478\n",
      "valid:  6942\n",
      "test:  1999\n"
     ]
    }
   ],
   "source": [
    "print(\"numero de secuencias por set:\\n\")\n",
    "print(\"train: \",len(train_sequences))\n",
    "print(\"valid: \",len(valid_sequences))\n",
    "print(\"test: \",len(test_sequences))"
   ]
  },
  {
   "cell_type": "code",
   "execution_count": 65,
   "metadata": {},
   "outputs": [
    {
     "name": "stdout",
     "output_type": "stream",
     "text": [
      "numero de targets por set:\n",
      "\n",
      "train:  62478\n",
      "valid:  6942\n",
      "test:  1999\n"
     ]
    }
   ],
   "source": [
    "print(\"numero de targets por set:\\n\")\n",
    "print(\"train: \",len(train_target))\n",
    "print(\"valid: \",len(valid_target))\n",
    "print(\"test: \",len(test_target))"
   ]
  },
  {
   "cell_type": "code",
   "execution_count": 74,
   "metadata": {},
   "outputs": [
    {
     "data": {
      "text/plain": [
       "list"
      ]
     },
     "execution_count": 74,
     "metadata": {},
     "output_type": "execute_result"
    }
   ],
   "source": [
    "type(train_sequences)"
   ]
  },
  {
   "cell_type": "code",
   "execution_count": 70,
   "metadata": {},
   "outputs": [
    {
     "name": "stdout",
     "output_type": "stream",
     "text": [
      "Reading /Users/ely/Documents/Maestria/proyecto_tecnologico/cimat2024-proyecto/Tareas/2024_07_11/solubility/solubility_train.lmdb\n",
      "Key: b'0'\n",
      "Value: b'\\x80\\x03}q\\x00(X\\x07\\x00\\x00\\x00primaryq\\x01X\\xc7\\x01\\x00\\x00GMILKTNLFGHTYQFKSITDVLAKANEEKSGDRLAGVAAESAEERVAAKVVLSKMTLGDLRNNPVVPYETDEVTRIIQDQVNDRIHDSIKNWTVEELREWILDHKTTDADIKRVARGLTSEIIAAVTKLMSNLDLIYGAKKIRVIAHANTTIGLPGTFSARLQPNHPTDDPDGILASLMEGLTYGIGDAVIGLNPVDDSTDSVVRLLNKFEEFRSKWDVPTQTCVLAHVKTQMEAMRRGAPTGLVFQSIAGSEKGNTAFGFDGATIEEARQLALQSGAATGPNVMYFETGQGSELSSDAHFGVDQVTMEARCYGFAKKFDPFLVNTVVGFIGPEYLYDSKQVIRAGLEDHFMGKLTGISMGCDVCYTNHMKADQNDVENLSVLLTAAGCNFIMGIPHGDDVMLNYQTTGYHETATLRELFGLKPIKEFDQWMEKMGFSENGKLTSRAGDASIFLKq\\x02X\\n\\x00\\x00\\x00solubilityq\\x03K\\x01u.'...\n",
      "------\n",
      "Key: b'1'\n",
      "Value: b'\\x80\\x03}q\\x00(X\\x07\\x00\\x00\\x00primaryq\\x01X\\xf0\\x00\\x00\\x00MAHHHHHHMSFFRMKRRLNFVVKRGIEELWENSFLDNNVDMKKIEYSKTGDAWPCVLLRKKSFEDLHKLYYICLKEKNKLLGEQYFHLQNSTKMLQHGRLKKVKLTMKRILTVLSRRAIHDQCLRAKDMLKKQEEREFYEIQKFKLNEQLLCLKHKMNILKKYNSFSLEQISLTFSIKKIENKIQQIDIILNPLRKETMYLLIPHFKYQRKYSDLPGFISWKKQNIIALRNNMSKLHRLYq\\x02X\\n\\x00\\x00\\x00solubilityq\\x03K\\x00u.'...\n",
      "------\n",
      "Key: b'10'\n",
      "Value: b'\\x80\\x03}q\\x00(X\\x07\\x00\\x00\\x00primaryq\\x01X\\xa8\\x00\\x00\\x00MSLSHGKGTDMLPEIAAAVGFLSSLLRTRGCVSEQRLKVFSGALQEALTEHYKHHWFPEKPSKGSGYRCIRINHKMDPIISRVASQIGLSQPQLHQLLPSELTLWVDPYEVSYRIGEDGSICVLYEEAPLAASCGLLTCKNQVLLGRSSPSKNYVMAVSSEGHHHHHHq\\x02X\\n\\x00\\x00\\x00solubilityq\\x03K\\x00u.'...\n",
      "------\n",
      "Key: b'100'\n",
      "Value: b'\\x80\\x03}q\\x00(X\\x07\\x00\\x00\\x00primaryq\\x01Xs\\x01\\x00\\x00MSSSTSSVESVEDESCSNECSASFTFDTNNNSRGNNQVNELAEETHMKLSITPTRESFSLSQLERIITIGKGTFGRVELARDKITGAHYALKVLNIRRVVDMRQTQHVHNEKRVLLQLKHPFIVKMYASEKDSNHLYMIMEFVPGGEMFSYLRASRSFSNSMARFYASEIVCALEYIHSLGIVYRDLKPENLMLSKEGHIKMADFGFAKELRDRTYTICGTPDYLAPESLARTGHNKGVDWWALGILIYEMMVGKPPFRGKTTSEIYDAIIEHKLKFPRSFNLAAKDLVKKLLEVDRTQRIGCMKNGTQDVKDHKWFEKVNWDDTLHLRVEPPIVPTLYHPGDTGNFDDYEEDTTGGPLCSQRDRDLFAEWq\\x02X\\n\\x00\\x00\\x00solubilityq\\x03K\\x00u.'...\n",
      "------\n",
      "Key: b'1000'\n",
      "Value: b'\\x80\\x03}q\\x00(X\\x07\\x00\\x00\\x00primaryq\\x01X.\\x00\\x00\\x00SRILVSIGESFGTSEKFQKINQMVCNSDRVLKRSAEGSNPPKPLKKq\\x02X\\n\\x00\\x00\\x00solubilityq\\x03K\\x01u.'...\n",
      "------\n",
      "Key: b'10000'\n",
      "Value: b'\\x80\\x03}q\\x00(X\\x07\\x00\\x00\\x00primaryq\\x01XX\\x01\\x00\\x00MRGSHHHHHHGSIEGRMEKINYLLPEESAEMTLNQVKSLRQIEGRLRKLFSLKNYQEVMPPSFEYTQLYTALESNGKTFNQEKMFQFIKHEGQSITLRYDFTLPLVRLYSQIKDSTSARYSYFGKIFRKEKRHKGRSTENYQIGIELFGESADKSELEILSLALQVIEQLGLNKTVFEIGSAKFFQRLCQLADGSTELLTELLLKKDLSGLNAFIEKNNFSKELRGLLKEIFITNELSRLENLVTNTKDDVLISSFDQLKEFSEKLSMIKPIIIDLGMVPKMDYYTDLMFKAYSSAANQPILSGGRYDQLLSNFQEEAFAIGFCCHMDTILKALERQELEEDNDq\\x02X\\n\\x00\\x00\\x00solubilityq\\x03K\\x01u.'...\n",
      "------\n",
      "Key: b'10001'\n",
      "Value: b'\\x80\\x03}q\\x00(X\\x07\\x00\\x00\\x00primaryq\\x01X\\x91\\x01\\x00\\x00MRCMTLPAYDIAILGAGPVGRVLALLLARLTPQPQRIALLQGGAGLPPTPAGTLGPAADPRVLALNHGSRVLLESLRAWPAHAAEIRHIHVSQRGRLGRTVIDREDFDVPQLGNVVAYAALHAQLEQAVQDCGVTVLSGPPARVDGQDGEGLTVRQGDAALHCRLAVQCDGAGGSDVRRDYAQHAVLTSAHATLPRSGWAWERFTNEGPLAMLPHPQTPEAYSVVWCCAPPRARRLAGLDDEAFSRELTEAFGTRLGRLRSAAPRHVFPLELKARHAQAHGRLATIGNAAQTLHPVAGQGLNLGLRDAAQLAHALPDWLAAPQADPSPLLATFARARLADRWVTAGLTDLMPRIFATGLAPVEHACGLALLGLDIAAPLRAPLARHLLQGLRVLEHHHHHHq\\x02X\\n\\x00\\x00\\x00solubilityq\\x03K\\x01u.'...\n",
      "------\n",
      "Key: b'10002'\n",
      "Value: b'\\x80\\x03}q\\x00(X\\x07\\x00\\x00\\x00primaryq\\x01X\\x86\\x01\\x00\\x00MFDFSKVVDRHGTWCTQWDYVADRFGTADLLPFTISDMDFATAPCIIEALNQRLMHGVFGYSRWKNDEFLAAIAHWFSTQHYTAIDSQTVVYGPSVIYMVSELIRQWSETGEGVVIHTPAYDAFYKAIEGNQRTVMPVALEKQADGWFCDMGKLEAVLAKPECKIMLLCSPQNPTGKVWTCDELEIMADLCERHGVRVISDEIHMDMVWGEQPHIPWSNVARGDWALLTSGSKSFNIPALTGAYGIIENSSSRDAYLSALKGRDGLSSPSVLALTAHIAAYQQGAPWLDALRIYLKDNLTYIADKMNAAFPELNWQIPQSTYLAWLDLRPLNIDDNALQKALIEQEKVAIMPGYTYGEEGRGFVRLNAGCPRSKLEKGVAGLINAIRAVRq\\x02X\\n\\x00\\x00\\x00solubilityq\\x03K\\x01u.'...\n",
      "------\n",
      "Key: b'10003'\n",
      "Value: b'\\x80\\x03}q\\x00(X\\x07\\x00\\x00\\x00primaryq\\x01X\\xb9\\x00\\x00\\x00MSGVLNTVDQRTNLVGENRLELLLFTLNSRQLFAINVFKVKEVIKLPPLTKLPGSHYNIRGVASLRGEAVPVIDLRCSIGFPPLRGEAEEENLIVTEYNRSVQGFLVGPVRNIINTAWTEIQPPPSTSGRSNYLTAITQVKDGDTSQIVEIIDVEKVLAEIVHYDVTISEDILDHDLSQSMVGRNq\\x02X\\n\\x00\\x00\\x00solubilityq\\x03K\\x00u.'...\n",
      "------\n",
      "Key: b'10004'\n",
      "Value: b'\\x80\\x03}q\\x00(X\\x07\\x00\\x00\\x00primaryq\\x01X\\xa9\\x00\\x00\\x00MAAFEYKALDAKGKQKKGTIEGDNARQVRQRLKEQGMIPVEVVEAKAKAAKSSGSVGFKRGIKTAELALITRQLSTLVQSGMPLEECLRAVSEQAEKPRIRTMIAAVRSKVTEGYPLADSLGDYPHVFDELFRSMVAAGEKSGHLDTVLERLAEYVENRQKMRSKLLQAq\\x02X\\n\\x00\\x00\\x00solubilityq\\x03K\\x00u.'...\n",
      "------\n"
     ]
    }
   ],
   "source": [
    "def read_lmdb(lmdb_path, max_items=10):\n",
    "    env = lmdb.open(lmdb_path, readonly=True)\n",
    "    with env.begin() as txn:\n",
    "        cursor = txn.cursor()\n",
    "        count = 0\n",
    "        for key, value in cursor:\n",
    "            print(f\"Key: {key}\")\n",
    "            print(f\"Value: {value[:3000]}...\")  # Trunca el valor para que sea legible\n",
    "            print(\"------\")\n",
    "            count += 1\n",
    "            if count >= max_items:\n",
    "                break\n",
    "\n",
    "# Ruta a uno de los archivos LMDB\n",
    "lmdb_path = os.path.expanduser(\"/Users/ely/Documents/Maestria/proyecto_tecnologico/cimat2024-proyecto/Tareas/2024_07_11/solubility/solubility_train.lmdb\")\n",
    "\n",
    "# Leer y visualizar contenido del archivo LMDB\n",
    "print(f\"Reading {lmdb_path}\")\n",
    "read_lmdb(lmdb_path, max_items=10)"
   ]
  },
  {
   "cell_type": "code",
   "execution_count": 120,
   "metadata": {},
   "outputs": [
    {
     "data": {
      "text/plain": [
       "['GMILKTNLFGHTYQFKSITDVLAKANEEKSGDRLAGVAAESAEERVAAKVVLSKMTLGDLRNNPVVPYETDEVTRIIQDQVNDRIHDSIKNWTVEELREWILDHKTTDADIKRVARGLTSEIIAAVTKLMSNLDLIYGAKKIRVIAHANTTIGLPGTFSARLQPNHPTDDPDGILASLMEGLTYGIGDAVIGLNPVDDSTDSVVRLLNKFEEFRSKWDVPTQTCVLAHVKTQMEAMRRGAPTGLVFQSIAGSEKGNTAFGFDGATIEEARQLALQSGAATGPNVMYFETGQGSELSSDAHFGVDQVTMEARCYGFAKKFDPFLVNTVVGFIGPEYLYDSKQVIRAGLEDHFMGKLTGISMGCDVCYTNHMKADQNDVENLSVLLTAAGCNFIMGIPHGDDVMLNYQTTGYHETATLRELFGLKPIKEFDQWMEKMGFSENGKLTSRAGDASIFLK',\n",
       " 'MAHHHHHHMSFFRMKRRLNFVVKRGIEELWENSFLDNNVDMKKIEYSKTGDAWPCVLLRKKSFEDLHKLYYICLKEKNKLLGEQYFHLQNSTKMLQHGRLKKVKLTMKRILTVLSRRAIHDQCLRAKDMLKKQEEREFYEIQKFKLNEQLLCLKHKMNILKKYNSFSLEQISLTFSIKKIENKIQQIDIILNPLRKETMYLLIPHFKYQRKYSDLPGFISWKKQNIIALRNNMSKLHRLY',\n",
       " 'MGSDKIHHHHHHMEKSIQDTIHGVIKLEDWMVEIVDTPQFQRLRRINQLGFANLVYPGANHTRFEHSLGVMHVTRILQERMGFDDVVVAAALLHDVGHAPFSHGSERLLEKYASYNHETISKVVRGELKDVLKNLGFRISEIEAIVTGKRRSVVNGEIDADRMDYLVRDSHYTGVAYGVFDIYRLIDKIKFDGAVVIEQGGVKAAESLLISRFLMYPTVYFHHVCRIARKMYERAMERIIEAGFEAENLLEMDDVDAMMLLKEKERETYDRLNNRRLFKRAIYVSRRSLDFREVMRTSERRAEREVAEMAGVDERYVIVDIPPVEEMRESGVMVDTESGLKPLEEVSPLVKALKDAAVENWRLGVYTDRRFVDKVGKAAADYFGIEKVVQKSLDEIFPQ',\n",
       " 'MEKYIHSVEDYHRLISYLENNLNYEDSVVNHVIYVIAKTGMRYGEIIGLTNNDTSLDEHYLHTYKRYNTSTWKWTNAKNESSKRYIPIDDKIVAALSNMIKERERINSLLRIKNKEEFLFFHYGLEHGIPSVATVNKALKKILKKLDIEPIITTKGLRHTYGSYLLHNNIDMGVVARILGHKDIQMLIQVYGHTLTEKIDKEFKEVEQIMNRILEHHHHHH',\n",
       " 'MSLTDSFTVRSIEGVCFRYPLATPVVTSFGKMLNRPAVFVRVVDEDGVEGWGEAWSNFPAPGAEHRARLINEVLAPGLVGRKLENPAQAFEVLSKGTEVLALQCGEPGPFAQAISGIDLALWDLFARRRNLPLWRLLGGQSSKIKVYASGINPGGAAQTAEAALKRGHRALKLKVGFGAETDIANLSALLTIVGAGMLAADANQGWSVDQALEMLPRLSEFNLRWLEEPIRADRPREEWRKLRANAKMPIAAGENISSVEDFEAALGDDVLGVIQPDIAKWGGLTVCVELARQILRVGKTFCPHYLGGGIGLLASAHLLAAVGRDGWLEVDANDNPLRDLFCGPVADVREGTIELNQNPGLGIVPDLSAIERYRSIEGHHHHHH',\n",
       " 'MAFLSQLQGGFAQLKQKAEAAAPSIADSLNQLKEAPKFMESAFKTGLNKVKLDSLGKVLNVPSLGRTQSPIDIVPVITAFGEHLQNAHFEVTYESTGEFKAVNDGNSIWLMREGNSSELAISFLPEEQYHLDAVNFHWATEPMNGSEHTIGGVGYAGEMHLIHRNTRFATMADALKQPNGVIAIAVFLNESHDDNAVFSPLINLLPQVIYKGSECKLCSFDFQTFFPVAEKTKEFWMYEGSETTDPFRETVNWIVIRAALPISSHQLDKLREVRAGRYDEEFSDKVPMKPLRPIQNPSSRTIQSSFRSVAGAPDLGFRQ',\n",
       " 'MKALCLLLLPVLGLLVSSKTLCSMEEAINERIQEVAGSLIFRAISSIGLECQSVTSRGDLATCPRGFAVTGCTCGSACGSWDVRAETTCHCQCAGMDWTGARCCRVQPLEHHHHHH',\n",
       " 'MFDTKIAVILRDDLAVWQKLNVTAFLMSGIVAQTGEIIGEPYRDGAGNVYNPLSIQPIVVMATDQEALRKIHQRSLERDITTSLYIEEMFATGHDAANRQVFSHFSPDTAKVVGMALRADRKIVDKITKGAKLHA',\n",
       " 'MPLGLFSSGKAQVLCDEKIPGGKKKEPKQLSENKCKGVTLKLDHTRVTIEKQIAEGGFAIVYVASDRKNNKFALKRQFTKDNEKQLEACCREHSFLKQCIGHKNIVEFVDSYTNCLGNGIWECMLLTEYHQKNVLQLMNERISQNQYLTNDEILSIFTDLCEAVSFIHNRPQPIIHRDLKVENVLISSHKPPHYVLCDFGSATTQILSVEKYGVEYVKSEVERNTTMCYRSPEMIDFYSGLEIGLKSDIWALGVLLYRLCFFCVPFEESPLAIQSVNYQFPSVPNIPDEIKVLIYMLLDIDVNRRPSIYQTSVLAFEANHRKPLSEEIQNKKCTDAVPSLKSCIQLMRDGSNPRNKRDSSPRNPEAPPIQSSSKMASLSQQVPSISNISMPSGSGTVETSVAPRLRPKATTVVPNVPSISPVPPVGLPHLRLPSKGSTDETDGSQVRKVPIDFHHRQSFSGEEQLKPAAEADSAGPLSCPLIKPTDLGFTDLDKPALPRDRAQTDGKRRLPHESDIIFQQQHRRNVSDTSQISRSAFKPYSSQQTTSKTSSQVVRSVEDMSQRQNGGSGEWNPFLVAPFSNNSISRKDGQESAFMMDDSHFGMVFDEIRRKEIPAELDSETSSIDSRDPFGAAPFDQLTVSTSSSAQPVSLPPGSVHLHTSIAPSPLLRHVLTKAPPPVPRRTTSRGFQV',\n",
       " 'GSHMSLFDFFKNKGSAATATDRLKLILAKERTLNLPYMEEMRKEIIAVIQKYTKSSDIHFKTLDSNQSVETIEVEIILPR']"
      ]
     },
     "execution_count": 120,
     "metadata": {},
     "output_type": "execute_result"
    }
   ],
   "source": [
    "train_sequences[:10][:]"
   ]
  },
  {
   "cell_type": "code",
   "execution_count": 117,
   "metadata": {},
   "outputs": [
    {
     "data": {
      "text/plain": [
       "list"
      ]
     },
     "execution_count": 117,
     "metadata": {},
     "output_type": "execute_result"
    }
   ],
   "source": [
    "type(sequences_number)"
   ]
  },
  {
   "cell_type": "code",
   "execution_count": 126,
   "metadata": {},
   "outputs": [],
   "source": [
    "config['batch_size']=32\n",
    "from torch.utils.data import DataLoader\n",
    "import numpy as np\n",
    "class PeptideBERTDataset(torch.utils.data.Dataset):\n",
    "    def __init__(self, input_ids, attention_masks, labels):\n",
    "        self.input_ids = input_ids\n",
    "        self.attention_masks = attention_masks\n",
    "        self.labels = labels\n",
    "\n",
    "        self.length = len(self.input_ids)\n",
    "\n",
    "    def __len__(self):\n",
    "        return self.length\n",
    "\n",
    "    def __getitem__(self, idx):\n",
    "        input_id = self.input_ids[idx]\n",
    "        attention_mask = self.attention_masks[idx]\n",
    "        label = self.labels[idx]\n",
    "\n",
    "        return {\n",
    "            'input_ids': torch.tensor(input_id, dtype=torch.long),\n",
    "            'attention_mask': torch.tensor(attention_mask, dtype=torch.long),\n",
    "            'labels': torch.tensor(label, dtype=torch.float)\n",
    "        }\n",
    "\n",
    "def atention_mask(array_sequences, max_length):\n",
    "    m = len(array_sequences)\n",
    "    atention_mask_sequence = np.zeros((m, max_length), dtype=np.float64)\n",
    "\n",
    "    for i, seq in enumerate(array_sequences):\n",
    "        seq_len = min(len(seq), max_length)\n",
    "        atention_mask_sequence[i, :seq_len] = 1\n",
    "\n",
    "    return atention_mask_sequence\n",
    "\n",
    "\n",
    "def load_data(sequences, targets, ds, max_length):\n",
    "    print(f'{\"=\"*30}{\"DATA\":^20}{\"=\"*30}')\n",
    "    \n",
    "    # Convertir secuencias a números\n",
    "    #sequences = convert_sequences_to_numbers(sequences, letter_to_number)\n",
    "    \n",
    "    # Inicializar arrays para las secuencias rellenadas y las máscaras de atención\n",
    "    train_sequences = np.zeros((ds.num_samples[0], max_length), dtype=np.float64)\n",
    "    valid_sequences = np.zeros((ds.num_samples[1], max_length), dtype=np.float64)\n",
    "    test_sequences = np.zeros((len(sequences) - ds.num_samples[0] - ds.num_samples[1], max_length), dtype=np.float64)\n",
    "    \n",
    "    # Rellenar las secuencias\n",
    "    for i, seq in enumerate(sequences[:ds.num_samples[0]]):\n",
    "        train_sequences[i, :len(seq)] = seq\n",
    "    for i, seq in enumerate(sequences[ds.num_samples[0]:ds.num_samples[0] + ds.num_samples[1]]):\n",
    "        valid_sequences[i, :len(seq)] = seq\n",
    "    for i, seq in enumerate(sequences[ds.num_samples[0] + ds.num_samples[1]:]):\n",
    "        test_sequences[i, :len(seq)] = seq\n",
    "    \n",
    "    # Crear las máscaras de atención\n",
    "    attention_mask_train = (train_sequences > 0).astype(np.float64)\n",
    "    attention_mask_val = (valid_sequences > 0).astype(np.float64)\n",
    "    attention_mask_test = (test_sequences > 0).astype(np.float64)\n",
    "    \n",
    "    # Convertir los targets a arrays\n",
    "    train_target = np.array(targets[:ds.num_samples[0]])\n",
    "    valid_target = np.array(targets[ds.num_samples[0]:ds.num_samples[0] + ds.num_samples[1]])\n",
    "    test_target = np.array(targets[ds.num_samples[0] + ds.num_samples[1]:])\n",
    "    train_dataset = PeptideBERTDataset(input_ids=train_sequences, attention_masks=attention_mask_train, labels=train_target)\n",
    "    val_dataset = PeptideBERTDataset(input_ids=valid_sequences, attention_masks=attention_mask_val, labels=valid_target)\n",
    "    test_dataset = PeptideBERTDataset(input_ids=test_sequences, attention_masks=attention_mask_test, labels=test_target)\n",
    "\n",
    "    train_data_loader = DataLoader(\n",
    "        train_dataset,\n",
    "        batch_size=config['batch_size'],\n",
    "        shuffle=True\n",
    "    )\n",
    "\n",
    "    val_data_loader = DataLoader(\n",
    "        val_dataset,\n",
    "        batch_size=config['batch_size'],\n",
    "        shuffle=False\n",
    "    )\n",
    "\n",
    "    test_data_loader = DataLoader(\n",
    "        test_dataset,\n",
    "        batch_size=config['batch_size'],\n",
    "        shuffle=False\n",
    "    )\n",
    "\n",
    "    print('Batch size: ', config['batch_size'])\n",
    "\n",
    "    print('Train dataset samples: ', len(train_dataset))\n",
    "    print('Validation dataset samples: ', len(val_dataset))\n",
    "    print('Test dataset samples: ', len(test_dataset))\n",
    "\n",
    "    print('Train dataset batches: ', len(train_data_loader))\n",
    "    print('Validation dataset batches: ', len(val_data_loader))\n",
    "    print('Test dataset batches: ', len(test_data_loader))\n",
    "\n",
    "    print()\n",
    "\n",
    "    return train_data_loader, val_data_loader, test_data_loader"
   ]
  },
  {
   "cell_type": "code",
   "execution_count": 127,
   "metadata": {},
   "outputs": [
    {
     "name": "stdout",
     "output_type": "stream",
     "text": [
      "==============================        DATA        ==============================\n",
      "Batch size:  32\n",
      "Train dataset samples:  62478\n",
      "Validation dataset samples:  6942\n",
      "Test dataset samples:  1999\n",
      "Train dataset batches:  1953\n",
      "Validation dataset batches:  217\n",
      "Test dataset batches:  63\n",
      "\n"
     ]
    }
   ],
   "source": [
    "train_data_loader, val_data_loader, test_data_loader = load_data(sequences_number,targets,ds,max_length)"
   ]
  },
  {
   "cell_type": "code",
   "execution_count": 130,
   "metadata": {},
   "outputs": [
    {
     "data": {
      "text/plain": [
       "torch.Size([1200])"
      ]
     },
     "execution_count": 130,
     "metadata": {},
     "output_type": "execute_result"
    }
   ],
   "source": [
    "train_data_loader.dataset[7410]['input_ids'].size()"
   ]
  },
  {
   "cell_type": "markdown",
   "metadata": {},
   "source": [
    "PeptideBert"
   ]
  },
  {
   "cell_type": "code",
   "execution_count": null,
   "metadata": {},
   "outputs": [],
   "source": [
    "# Función para cargar el modelo guardado\n",
    "def load_trained_model(save_path, config):\n",
    "    model = create_model(config)\n",
    "    checkpoint = torch.load(save_path, map_location=config['device'])\n",
    "    model.load_state_dict(checkpoint['model_state_dict'])\n",
    "    return model"
   ]
  },
  {
   "cell_type": "markdown",
   "metadata": {},
   "source": [
    "ProtBert"
   ]
  },
  {
   "cell_type": "code",
   "execution_count": 71,
   "metadata": {},
   "outputs": [],
   "source": [
    "from transformers import BertModel\n",
    "#Clase solubilidad, que hereda de torch.nn.Module \n",
    "class solubilidad_bert(torch.nn.Module):\n",
    "    def __init__(self, bert_config): #constructor de la clase con parametros para bert\n",
    "        #llamamos al constructor de la clase base torch.nn.Module.\n",
    "        super(solubilidad_bert, self).__init__()\n",
    "\n",
    "        #cargamos el modelo preentrenado\n",
    "        self.protbert = BertModel.from_pretrained(\n",
    "            'Rostlab/prot_bert_bfd', \n",
    "            config=bert_config, #pasamos la onfiguracion del modelo\n",
    "            ignore_mismatched_sizes=True \n",
    "        ) \n",
    "        #clasificacion\n",
    "        self.head = torch.nn.Sequential( \n",
    "            torch.nn.Linear(bert_config.hidden_size, 1), #toma la salida de protVert y la convierte en un valor\n",
    "            torch.nn.Sigmoid()\n",
    "        )\n",
    "    #definimos el metodo Fordward que especifica como procesar los datos\n",
    "    def forward(self, inputs, attention_mask):\n",
    "        #pasamos las entradas a través de ProtBert\n",
    "        output = self.protbert(inputs, attention_mask=attention_mask)\n",
    "        #usamos la salida de ProtBert como entrada a la capa de clasificacion\n",
    "        return self.head(output.pooler_output)\n",
    " "
   ]
  },
  {
   "cell_type": "code",
   "execution_count": 27,
   "metadata": {},
   "outputs": [
    {
     "name": "stdout",
     "output_type": "stream",
     "text": [
      "11:28:43   Extracting /Users/ely/Documents/Maestria/proyecto_tecnologico/cimat2024-proyecto/Tareas/2024_07_11/protbert-model-weights/prot_bert_bfd.zip to /Users/ely/Documents/Maestria/proyecto_tecnologico/cimat2024-proyecto/Tareas/2024_07_11/protbert-model-weights\n"
     ]
    }
   ],
   "source": [
    "# Configurar el modelo ProtBert\n",
    "model_config = config['task']['model']\n",
    "model = pb.ProtBert(model_config['path'], readout=\"pooler\")"
   ]
  },
  {
   "cell_type": "code",
   "execution_count": 28,
   "metadata": {},
   "outputs": [],
   "source": [
    "task = tasks.PropertyPrediction(model, task=ds.tasks,\n",
    "                                criterion=\"ce\", metric=(\"acc\", \"mcc\"))"
   ]
  },
  {
   "cell_type": "code",
   "execution_count": 29,
   "metadata": {},
   "outputs": [],
   "source": [
    "# Configurar el optimizador\n",
    "optimizer_config = config['optimizer']\n",
    "optimizer = optim.Adam(task.parameters(), lr=optimizer_config['lr'])"
   ]
  },
  {
   "cell_type": "code",
   "execution_count": 30,
   "metadata": {},
   "outputs": [],
   "source": [
    "# Configurar el motor de entrenamiento\n",
    "engine_config = config['engine']\n",
    "if not \"scheduler\" in engine_config:\n",
    "        scheduler = None\n",
    "else:\n",
    "        engine_config.scheduler.optimizer = optimizer\n",
    "        scheduler = core.Configurable.load_config_dict(engine_config.scheduler)"
   ]
  },
  {
   "cell_type": "code",
   "execution_count": 31,
   "metadata": {},
   "outputs": [],
   "source": [
    "fix_encoder=config['fix_encoder']\n",
    "if fix_encoder:\n",
    "    for p in task.model.parameters():\n",
    "        p.requires_grad = False"
   ]
  },
  {
   "cell_type": "code",
   "execution_count": 56,
   "metadata": {},
   "outputs": [],
   "source": [
    "ds.lazy=False"
   ]
  },
  {
   "cell_type": "code",
   "execution_count": 58,
   "metadata": {},
   "outputs": [],
   "source": [
    "train_set.lazy=False\n",
    "test_set.lazy=False\n",
    "valid_set.lazy=False"
   ]
  },
  {
   "cell_type": "code",
   "execution_count": 59,
   "metadata": {},
   "outputs": [
    {
     "name": "stdout",
     "output_type": "stream",
     "text": [
      "12:12:44   Preprocess training set\n"
     ]
    },
    {
     "ename": "AttributeError",
     "evalue": "'Solubility' object has no attribute 'smiles_list'",
     "output_type": "error",
     "traceback": [
      "\u001b[0;31m---------------------------------------------------------------------------\u001b[0m",
      "\u001b[0;31mAttributeError\u001b[0m                            Traceback (most recent call last)",
      "Cell \u001b[0;32mIn[59], line 1\u001b[0m\n\u001b[0;32m----> 1\u001b[0m solver \u001b[38;5;241m=\u001b[39m \u001b[43mcore\u001b[49m\u001b[38;5;241;43m.\u001b[39;49m\u001b[43mEngine\u001b[49m\u001b[43m(\u001b[49m\u001b[43mtask\u001b[49m\u001b[43m,\u001b[49m\u001b[43m \u001b[49m\u001b[43mtrain_set\u001b[49m\u001b[38;5;241;43m=\u001b[39;49m\u001b[43mtrain_set\u001b[49m\u001b[43m,\u001b[49m\u001b[43mvalid_set\u001b[49m\u001b[38;5;241;43m=\u001b[39;49m\u001b[43m \u001b[49m\u001b[43mvalid_set\u001b[49m\u001b[43m,\u001b[49m\u001b[43m \u001b[49m\u001b[43mtest_set\u001b[49m\u001b[38;5;241;43m=\u001b[39;49m\u001b[43mtest_set\u001b[49m\u001b[43m \u001b[49m\u001b[43m,\u001b[49m\u001b[43m \u001b[49m\u001b[43moptimizer\u001b[49m\u001b[38;5;241;43m=\u001b[39;49m\u001b[43moptimizer\u001b[49m\u001b[43m,\u001b[49m\u001b[43m \u001b[49m\u001b[43mscheduler\u001b[49m\u001b[38;5;241;43m=\u001b[39;49m\u001b[43mscheduler\u001b[49m\u001b[43m,\u001b[49m\u001b[43m \u001b[49m\u001b[43mbatch_size\u001b[49m\u001b[38;5;241;43m=\u001b[39;49m\u001b[38;5;241;43m1024\u001b[39;49m\u001b[43m,\u001b[49m\u001b[43mgradient_interval\u001b[49m\u001b[38;5;241;43m=\u001b[39;49m\u001b[38;5;28;43;01mNone\u001b[39;49;00m\u001b[43m)\u001b[49m\n",
      "File \u001b[0;32m~/miniconda3/envs/verano_2024/lib/python3.8/site-packages/decorator.py:232\u001b[0m, in \u001b[0;36mdecorate.<locals>.fun\u001b[0;34m(*args, **kw)\u001b[0m\n\u001b[1;32m    230\u001b[0m \u001b[38;5;28;01mif\u001b[39;00m \u001b[38;5;129;01mnot\u001b[39;00m kwsyntax:\n\u001b[1;32m    231\u001b[0m     args, kw \u001b[38;5;241m=\u001b[39m fix(args, kw, sig)\n\u001b[0;32m--> 232\u001b[0m \u001b[38;5;28;01mreturn\u001b[39;00m \u001b[43mcaller\u001b[49m\u001b[43m(\u001b[49m\u001b[43mfunc\u001b[49m\u001b[43m,\u001b[49m\u001b[43m \u001b[49m\u001b[38;5;241;43m*\u001b[39;49m\u001b[43m(\u001b[49m\u001b[43mextras\u001b[49m\u001b[43m \u001b[49m\u001b[38;5;241;43m+\u001b[39;49m\u001b[43m \u001b[49m\u001b[43margs\u001b[49m\u001b[43m)\u001b[49m\u001b[43m,\u001b[49m\u001b[43m \u001b[49m\u001b[38;5;241;43m*\u001b[39;49m\u001b[38;5;241;43m*\u001b[39;49m\u001b[43mkw\u001b[49m\u001b[43m)\u001b[49m\n",
      "File \u001b[0;32m~/miniconda3/envs/verano_2024/lib/python3.8/site-packages/torchdrug/core/core.py:296\u001b[0m, in \u001b[0;36m_Configurable.__new__.<locals>.wrapper\u001b[0;34m(init, self, *args, **kwargs)\u001b[0m\n\u001b[1;32m    294\u001b[0m     config\u001b[38;5;241m.\u001b[39mpop(k)\n\u001b[1;32m    295\u001b[0m \u001b[38;5;28mself\u001b[39m\u001b[38;5;241m.\u001b[39m_config \u001b[38;5;241m=\u001b[39m \u001b[38;5;28mdict\u001b[39m(config)\n\u001b[0;32m--> 296\u001b[0m \u001b[38;5;28;01mreturn\u001b[39;00m \u001b[43minit\u001b[49m\u001b[43m(\u001b[49m\u001b[38;5;28;43mself\u001b[39;49m\u001b[43m,\u001b[49m\u001b[43m \u001b[49m\u001b[38;5;241;43m*\u001b[39;49m\u001b[43margs\u001b[49m\u001b[43m,\u001b[49m\u001b[43m \u001b[49m\u001b[38;5;241;43m*\u001b[39;49m\u001b[38;5;241;43m*\u001b[39;49m\u001b[43mkwargs\u001b[49m\u001b[43m)\u001b[49m\n",
      "File \u001b[0;32m~/miniconda3/envs/verano_2024/lib/python3.8/site-packages/torchdrug/core/engine.py:92\u001b[0m, in \u001b[0;36mEngine.__init__\u001b[0;34m(self, task, train_set, valid_set, test_set, optimizer, scheduler, gpus, batch_size, gradient_interval, num_worker, logger, log_interval)\u001b[0m\n\u001b[1;32m     89\u001b[0m \u001b[38;5;66;03m# TODO: more elegant implementation\u001b[39;00m\n\u001b[1;32m     90\u001b[0m \u001b[38;5;66;03m# handle dynamic parameters in optimizer\u001b[39;00m\n\u001b[1;32m     91\u001b[0m old_params \u001b[38;5;241m=\u001b[39m \u001b[38;5;28mlist\u001b[39m(task\u001b[38;5;241m.\u001b[39mparameters())\n\u001b[0;32m---> 92\u001b[0m result \u001b[38;5;241m=\u001b[39m \u001b[43mtask\u001b[49m\u001b[38;5;241;43m.\u001b[39;49m\u001b[43mpreprocess\u001b[49m\u001b[43m(\u001b[49m\u001b[43mtrain_set\u001b[49m\u001b[43m,\u001b[49m\u001b[43m \u001b[49m\u001b[43mvalid_set\u001b[49m\u001b[43m,\u001b[49m\u001b[43m \u001b[49m\u001b[43mtest_set\u001b[49m\u001b[43m)\u001b[49m\n\u001b[1;32m     93\u001b[0m \u001b[38;5;28;01mif\u001b[39;00m result \u001b[38;5;129;01mis\u001b[39;00m \u001b[38;5;129;01mnot\u001b[39;00m \u001b[38;5;28;01mNone\u001b[39;00m:\n\u001b[1;32m     94\u001b[0m     train_set, valid_set, test_set \u001b[38;5;241m=\u001b[39m result\n",
      "File \u001b[0;32m~/miniconda3/envs/verano_2024/lib/python3.8/site-packages/torchdrug/tasks/property_prediction.py:62\u001b[0m, in \u001b[0;36mPropertyPrediction.preprocess\u001b[0;34m(self, train_set, valid_set, test_set)\u001b[0m\n\u001b[1;32m     58\u001b[0m \u001b[38;5;250m\u001b[39m\u001b[38;5;124;03m\"\"\"\u001b[39;00m\n\u001b[1;32m     59\u001b[0m \u001b[38;5;124;03mCompute the mean and derivation for each task on the training set.\u001b[39;00m\n\u001b[1;32m     60\u001b[0m \u001b[38;5;124;03m\"\"\"\u001b[39;00m\n\u001b[1;32m     61\u001b[0m values \u001b[38;5;241m=\u001b[39m defaultdict(\u001b[38;5;28mlist\u001b[39m)\n\u001b[0;32m---> 62\u001b[0m \u001b[38;5;28;01mfor\u001b[39;00m sample \u001b[38;5;129;01min\u001b[39;00m train_set:\n\u001b[1;32m     63\u001b[0m     \u001b[38;5;28;01mif\u001b[39;00m \u001b[38;5;129;01mnot\u001b[39;00m sample\u001b[38;5;241m.\u001b[39mget(\u001b[38;5;124m\"\u001b[39m\u001b[38;5;124mlabeled\u001b[39m\u001b[38;5;124m\"\u001b[39m, \u001b[38;5;28;01mTrue\u001b[39;00m):\n\u001b[1;32m     64\u001b[0m         \u001b[38;5;28;01mcontinue\u001b[39;00m\n",
      "File \u001b[0;32m~/miniconda3/envs/verano_2024/lib/python3.8/site-packages/torch/utils/data/dataset.py:411\u001b[0m, in \u001b[0;36mSubset.__getitem__\u001b[0;34m(self, idx)\u001b[0m\n\u001b[1;32m    409\u001b[0m \u001b[38;5;28;01mif\u001b[39;00m \u001b[38;5;28misinstance\u001b[39m(idx, \u001b[38;5;28mlist\u001b[39m):\n\u001b[1;32m    410\u001b[0m     \u001b[38;5;28;01mreturn\u001b[39;00m \u001b[38;5;28mself\u001b[39m\u001b[38;5;241m.\u001b[39mdataset[[\u001b[38;5;28mself\u001b[39m\u001b[38;5;241m.\u001b[39mindices[i] \u001b[38;5;28;01mfor\u001b[39;00m i \u001b[38;5;129;01min\u001b[39;00m idx]]\n\u001b[0;32m--> 411\u001b[0m \u001b[38;5;28;01mreturn\u001b[39;00m \u001b[38;5;28;43mself\u001b[39;49m\u001b[38;5;241;43m.\u001b[39;49m\u001b[43mdataset\u001b[49m\u001b[43m[\u001b[49m\u001b[38;5;28;43mself\u001b[39;49m\u001b[38;5;241;43m.\u001b[39;49m\u001b[43mindices\u001b[49m\u001b[43m[\u001b[49m\u001b[43midx\u001b[49m\u001b[43m]\u001b[49m\u001b[43m]\u001b[49m\n",
      "File \u001b[0;32m~/miniconda3/envs/verano_2024/lib/python3.8/site-packages/torchdrug/data/dataset.py:190\u001b[0m, in \u001b[0;36mMoleculeDataset.__getitem__\u001b[0;34m(self, index)\u001b[0m\n\u001b[1;32m    188\u001b[0m \u001b[38;5;28;01mdef\u001b[39;00m \u001b[38;5;21m__getitem__\u001b[39m(\u001b[38;5;28mself\u001b[39m, index):\n\u001b[1;32m    189\u001b[0m     \u001b[38;5;28;01mif\u001b[39;00m \u001b[38;5;28misinstance\u001b[39m(index, \u001b[38;5;28mint\u001b[39m):\n\u001b[0;32m--> 190\u001b[0m         \u001b[38;5;28;01mreturn\u001b[39;00m \u001b[38;5;28;43mself\u001b[39;49m\u001b[38;5;241;43m.\u001b[39;49m\u001b[43mget_item\u001b[49m\u001b[43m(\u001b[49m\u001b[43mindex\u001b[49m\u001b[43m)\u001b[49m\n\u001b[1;32m    192\u001b[0m     index \u001b[38;5;241m=\u001b[39m \u001b[38;5;28mself\u001b[39m\u001b[38;5;241m.\u001b[39m_standarize_index(index, \u001b[38;5;28mlen\u001b[39m(\u001b[38;5;28mself\u001b[39m))\n\u001b[1;32m    193\u001b[0m     \u001b[38;5;28;01mreturn\u001b[39;00m [\u001b[38;5;28mself\u001b[39m\u001b[38;5;241m.\u001b[39mget_item(i) \u001b[38;5;28;01mfor\u001b[39;00m i \u001b[38;5;129;01min\u001b[39;00m index]\n",
      "File \u001b[0;32m~/miniconda3/envs/verano_2024/lib/python3.8/site-packages/torchdrug/data/dataset.py:180\u001b[0m, in \u001b[0;36mMoleculeDataset.get_item\u001b[0;34m(self, index)\u001b[0m\n\u001b[1;32m    177\u001b[0m \u001b[38;5;28;01mdef\u001b[39;00m \u001b[38;5;21mget_item\u001b[39m(\u001b[38;5;28mself\u001b[39m, index):\n\u001b[1;32m    178\u001b[0m     \u001b[38;5;28;01mif\u001b[39;00m \u001b[38;5;28mgetattr\u001b[39m(\u001b[38;5;28mself\u001b[39m, \u001b[38;5;124m\"\u001b[39m\u001b[38;5;124mlazy\u001b[39m\u001b[38;5;124m\"\u001b[39m, \u001b[38;5;28;01mFalse\u001b[39;00m):\n\u001b[1;32m    179\u001b[0m         \u001b[38;5;66;03m# TODO: what if the smiles is invalid here?\u001b[39;00m\n\u001b[0;32m--> 180\u001b[0m         item \u001b[38;5;241m=\u001b[39m {\u001b[38;5;124m\"\u001b[39m\u001b[38;5;124mgraph\u001b[39m\u001b[38;5;124m\"\u001b[39m: data\u001b[38;5;241m.\u001b[39mMolecule\u001b[38;5;241m.\u001b[39mfrom_smiles(\u001b[38;5;28;43mself\u001b[39;49m\u001b[38;5;241;43m.\u001b[39;49m\u001b[43msmiles_list\u001b[49m[index], \u001b[38;5;241m*\u001b[39m\u001b[38;5;241m*\u001b[39m\u001b[38;5;28mself\u001b[39m\u001b[38;5;241m.\u001b[39mkwargs)}\n\u001b[1;32m    181\u001b[0m     \u001b[38;5;28;01melse\u001b[39;00m:\n\u001b[1;32m    182\u001b[0m         item \u001b[38;5;241m=\u001b[39m {\u001b[38;5;124m\"\u001b[39m\u001b[38;5;124mgraph\u001b[39m\u001b[38;5;124m\"\u001b[39m: \u001b[38;5;28mself\u001b[39m\u001b[38;5;241m.\u001b[39mdata[index]}\n",
      "\u001b[0;31mAttributeError\u001b[0m: 'Solubility' object has no attribute 'smiles_list'"
     ]
    }
   ],
   "source": [
    "solver = core.Engine(task, train_set=train_set,valid_set= valid_set, test_set=test_set , optimizer=optimizer, scheduler=scheduler, batch_size=1024,gradient_interval=None)"
   ]
  },
  {
   "cell_type": "code",
   "execution_count": 43,
   "metadata": {},
   "outputs": [
    {
     "data": {
      "text/plain": [
       "{'graph': None, 'solubility': 1}"
      ]
     },
     "execution_count": 43,
     "metadata": {},
     "output_type": "execute_result"
    }
   ],
   "source": [
    "train_set[1000]"
   ]
  },
  {
   "cell_type": "code",
   "execution_count": 33,
   "metadata": {},
   "outputs": [],
   "source": [
    "lazy=True"
   ]
  },
  {
   "cell_type": "code",
   "execution_count": 34,
   "metadata": {},
   "outputs": [
    {
     "name": "stdout",
     "output_type": "stream",
     "text": [
      "11:28:52   >>>>>>>>>>>>>>>>>>>>>>>>>>>>>>\n",
      "11:28:52   Epoch 0 begin\n"
     ]
    },
    {
     "ename": "TypeError",
     "evalue": "'<' not supported between instances of 'NoneType' and 'int'",
     "output_type": "error",
     "traceback": [
      "\u001b[0;31m---------------------------------------------------------------------------\u001b[0m",
      "\u001b[0;31mTypeError\u001b[0m                                 Traceback (most recent call last)",
      "Cell \u001b[0;32mIn[34], line 3\u001b[0m\n\u001b[1;32m      1\u001b[0m \u001b[38;5;66;03m# Entrenar el modelo\u001b[39;00m\n\u001b[1;32m      2\u001b[0m train_config \u001b[38;5;241m=\u001b[39m config[\u001b[38;5;124m'\u001b[39m\u001b[38;5;124mtrain\u001b[39m\u001b[38;5;124m'\u001b[39m]\n\u001b[0;32m----> 3\u001b[0m \u001b[43msolver\u001b[49m\u001b[38;5;241;43m.\u001b[39;49m\u001b[43mtrain\u001b[49m\u001b[43m(\u001b[49m\u001b[43mnum_epoch\u001b[49m\u001b[38;5;241;43m=\u001b[39;49m\u001b[43mtrain_config\u001b[49m\u001b[43m[\u001b[49m\u001b[38;5;124;43m'\u001b[39;49m\u001b[38;5;124;43mnum_epoch\u001b[39;49m\u001b[38;5;124;43m'\u001b[39;49m\u001b[43m]\u001b[49m\u001b[43m)\u001b[49m\n",
      "File \u001b[0;32m~/miniconda3/envs/verano_2024/lib/python3.8/site-packages/torchdrug/core/engine.py:155\u001b[0m, in \u001b[0;36mEngine.train\u001b[0;34m(self, num_epoch, batch_per_epoch)\u001b[0m\n\u001b[1;32m    153\u001b[0m start_id \u001b[38;5;241m=\u001b[39m \u001b[38;5;241m0\u001b[39m\n\u001b[1;32m    154\u001b[0m \u001b[38;5;66;03m# the last gradient update may contain less than gradient_interval batches\u001b[39;00m\n\u001b[0;32m--> 155\u001b[0m gradient_interval \u001b[38;5;241m=\u001b[39m \u001b[38;5;28;43mmin\u001b[39;49m\u001b[43m(\u001b[49m\u001b[43mbatch_per_epoch\u001b[49m\u001b[43m \u001b[49m\u001b[38;5;241;43m-\u001b[39;49m\u001b[43m \u001b[49m\u001b[43mstart_id\u001b[49m\u001b[43m,\u001b[49m\u001b[43m \u001b[49m\u001b[38;5;28;43mself\u001b[39;49m\u001b[38;5;241;43m.\u001b[39;49m\u001b[43mgradient_interval\u001b[49m\u001b[43m)\u001b[49m\n\u001b[1;32m    157\u001b[0m \u001b[38;5;28;01mfor\u001b[39;00m batch_id, batch \u001b[38;5;129;01min\u001b[39;00m \u001b[38;5;28menumerate\u001b[39m(islice(dataloader, batch_per_epoch)):\n\u001b[1;32m    158\u001b[0m     \u001b[38;5;28;01mif\u001b[39;00m \u001b[38;5;28mself\u001b[39m\u001b[38;5;241m.\u001b[39mdevice\u001b[38;5;241m.\u001b[39mtype \u001b[38;5;241m==\u001b[39m \u001b[38;5;124m\"\u001b[39m\u001b[38;5;124mcuda\u001b[39m\u001b[38;5;124m\"\u001b[39m:\n",
      "\u001b[0;31mTypeError\u001b[0m: '<' not supported between instances of 'NoneType' and 'int'"
     ]
    }
   ],
   "source": [
    "# Entrenar el modelo\n",
    "train_config = config['train']\n",
    "solver.train(num_epoch=train_config['num_epoch'])"
   ]
  },
  {
   "cell_type": "code",
   "execution_count": null,
   "metadata": {},
   "outputs": [],
   "source": []
  },
  {
   "cell_type": "code",
   "execution_count": 61,
   "metadata": {},
   "outputs": [],
   "source": [
    "from collections.abc import Mapping"
   ]
  },
  {
   "cell_type": "code",
   "execution_count": 62,
   "metadata": {},
   "outputs": [
    {
     "data": {
      "text/plain": [
       "collections.abc.Mapping"
      ]
     },
     "execution_count": 62,
     "metadata": {},
     "output_type": "execute_result"
    }
   ],
   "source": [
    "Mapping"
   ]
  },
  {
   "cell_type": "code",
   "execution_count": null,
   "metadata": {},
   "outputs": [],
   "source": [
    "def load_data(config):\n",
    "    print(f'{\"=\"*30}{\"DATA\":^20}{\"=\"*30}')\n",
    "    #editamos para tarea\n",
    "    with np.load(f'./data/{config[\"task\"]}/train.npz') as train,\\\n",
    "         np.load(f'./data/{config[\"task\"]}/val.npz') as val,\\\n",
    "         np.load(f'./data/{config[\"task\"]}/test.npz') as test:\n",
    "        train_inputs = train['inputs']\n",
    "        train_labels = train['labels']\n",
    "        val_inputs = val['inputs']\n",
    "        val_labels = val['labels']\n",
    "        test_inputs = test['inputs']\n",
    "        test_labels = test['labels']\n",
    "\n",
    "    attention_mask = np.asarray(train_inputs > 0, dtype=np.float64)\n",
    "    attention_mask_val = np.asarray(val_inputs > 0, dtype=np.float64)\n",
    "    attention_mask_test = np.asarray(test_inputs > 0, dtype=np.float64)\n",
    "\n",
    "    train_dataset = PeptideBERTDataset(input_ids=train_inputs, attention_masks=attention_mask, labels=train_labels)\n",
    "    val_dataset = PeptideBERTDataset(input_ids=val_inputs, attention_masks=attention_mask_val, labels=val_labels)\n",
    "    test_dataset = PeptideBERTDataset(input_ids=test_inputs, attention_masks=attention_mask_test, labels=test_labels)\n"
   ]
  },
  {
   "cell_type": "code",
   "execution_count": 131,
   "metadata": {},
   "outputs": [],
   "source": [
    "from transformers import BertModel, BertConfig, logging"
   ]
  },
  {
   "cell_type": "code",
   "execution_count": 134,
   "metadata": {},
   "outputs": [
    {
     "ename": "TypeError",
     "evalue": "'type' object is not subscriptable",
     "output_type": "error",
     "traceback": [
      "\u001b[0;31m---------------------------------------------------------------------------\u001b[0m",
      "\u001b[0;31mTypeError\u001b[0m                                 Traceback (most recent call last)",
      "Cell \u001b[0;32mIn[134], line 1\u001b[0m\n\u001b[0;32m----> 1\u001b[0m \u001b[43mBertConfig\u001b[49m\u001b[43m[\u001b[49m\u001b[38;5;124;43m\"\u001b[39;49m\u001b[38;5;124;43mmax_position_embeddings\u001b[39;49m\u001b[38;5;124;43m\"\u001b[39;49m\u001b[43m]\u001b[49m\n",
      "\u001b[0;31mTypeError\u001b[0m: 'type' object is not subscriptable"
     ]
    }
   ],
   "source": [
    "BertConfig[\"max_position_embeddings\"]"
   ]
  },
  {
   "cell_type": "code",
   "execution_count": null,
   "metadata": {},
   "outputs": [],
   "source": []
  }
 ],
 "metadata": {
  "kernelspec": {
   "display_name": "Python 3",
   "language": "python",
   "name": "python3"
  },
  "language_info": {
   "codemirror_mode": {
    "name": "ipython",
    "version": 3
   },
   "file_extension": ".py",
   "mimetype": "text/x-python",
   "name": "python",
   "nbconvert_exporter": "python",
   "pygments_lexer": "ipython3",
   "version": "3.8.19"
  }
 },
 "nbformat": 4,
 "nbformat_minor": 2
}
